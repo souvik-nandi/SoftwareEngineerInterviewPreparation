{
 "cells": [
  {
   "cell_type": "code",
   "execution_count": null,
   "metadata": {},
   "outputs": [],
   "source": [
    "import requests\n",
    "\n",
    "url = \"https://leetcode.com/graphql/\"\n",
    "headers = {\n",
    "  'authority': 'leetcode.com',\n",
    "  'accept': '*/*',\n",
    "  'accept-language': 'en-US,en;q=0.9',\n",
    "  'authorization': '',\n",
    "  'content-type': 'application/json',\n",
    "  'cookie': 'gr_user_id=9ad851ae-530e-48ad-9396-696baaa075e0; 87b5a3c3f1a55520_gr_last_sent_cs1=souviknandi24; __stripe_mid=65491082-c583-4e6d-a83f-8a90bddbcba0a44806; _gid=GA1.2.846738805.1716035958; cf_clearance=mHSIER87LUlXJ4zI4kaWmsaVNnf9JKOI4.TnGICJivk-1716035964-1.0.1.1-bWegS8BoV.Iojyf.koy.ulUWxgTGIV5kdVGnUC6B4WDyGMQx36ckbEe1GsGOO9rsx4jblHd.ZIS2XNIMhS4EmQ; csrftoken=U9yHAywG3eORMDPb320MJbmgUVBcdTEuQVveew1237vCHYsD5kBKfQD1LO8C8R5A; messages=.eJztz0EKwkAMQNGrhKwHKUVP0pWUMoyZWKJjIo1p8fZ6CUHB7V88-OOIOV_cNN_YvcyMqUv9IeEQRO9yjtae4DIrVxCF4uAWq1y1aJV-v8Mp_YnPE13Co8UCHienRe4PMQVxUNuAihK3xvXLH36QmF5-7xUL:1s8JLU:HFmo2ZMW3Il98VxdQKsBzw6z7wclAh-pf2mF7FInjU0; LEETCODE_SESSION=eyJ0eXAiOiJKV1QiLCJhbGciOiJIUzI1NiJ9.eyJfYXV0aF91c2VyX2lkIjoiMzAzNzA4MyIsIl9hdXRoX3VzZXJfYmFja2VuZCI6ImFsbGF1dGguYWNjb3VudC5hdXRoX2JhY2tlbmRzLkF1dGhlbnRpY2F0aW9uQmFja2VuZCIsIl9hdXRoX3VzZXJfaGFzaCI6ImM4YmU5NTQ0ZTgzYzc3YTdjYzBmMTNjMjc0ZDk0YjdlMmZmY2FhN2UxYzYyMGIxN2RiOWNmMjEyNTYwNmJlMGUiLCJpZCI6MzAzNzA4MywiZW1haWwiOiJzb3V2aWtuYW5kaTI0QGdtYWlsLmNvbSIsInVzZXJuYW1lIjoic291dmlrbmFuZGkyNCIsInVzZXJfc2x1ZyI6InNvdXZpa25hbmRpMjQiLCJhdmF0YXIiOiJodHRwczovL2Fzc2V0cy5sZWV0Y29kZS5jb20vdXNlcnMvc291dmlrbmFuZGkyNC9hdmF0YXJfMTU5MTY0Mjk4Ni5wbmciLCJyZWZyZXNoZWRfYXQiOjE3MTYwMzU5NjgsImlwIjoiNDkuNDMuMjM1Ljg0IiwiaWRlbnRpdHkiOiJlZjZjMTgyNGMyYzRkMmUyZGQwZWQ1YTJjYTQwYmVmMyIsInNlc3Npb25faWQiOjYxNzUzMzY3fQ.PmFblxY0GtkTrztWoSesJMQXKsi-7sInyVpCGL8ISFE; INGRESSCOOKIE=6691b42d3b95eb3c11c283c59ce67103|8e0876c7c1464cc0ac96bc2edceabd27; FCNEC=%5B%5B%22AKsRol_py9eDh314dlgqTCPNtxF2t9uI3MsxDhPRwRoMklIsTopjrqvrg_zDUFJ8PUSeDtKIsp2OU08AjqUB_OSj0y82kXLs4_rUU2t6D6WnOZHdAVCJ5i5XCXQwAp2U9B2U1MJq-c5bS7-gc1pLo1dfj27xuUgr5Q%3D%3D%22%5D%5D; __gads=ID=c3a7b8a9a5e35f4d:T=1707700123:RT=1716036292:S=ALNI_MYQ2my4WprqdNzHg9adL7w9URqLjQ; __gpi=UID=00000d038eaf31dd:T=1707700123:RT=1716036292:S=ALNI_MbA9jIgCD7l9Uq3IcA5Zel3QIpKVA; __eoi=ID=b88167b702c5870e:T=1707700123:RT=1716036292:S=AA-AfjbzRB9IU8GJFbk3yCp4ltja; _ga=GA1.2.452127268.1707699744; __cf_bm=fA.EA5C8d3O08Wtpv4LuQYoNCwYzcEvIMuuPs_I_23A-1716114086-1.0.1.1-dGrgxOMiWfWbZSDLOa53YGskKlYySamU9aEiNaSAXmntRLEel1rh0IdURFNVW.0BPNgTc_ZwZq8.jq1FGVF.Ig; 87b5a3c3f1a55520_gr_session_id=bd8390f3-3711-419b-bfc8-0d6d438204ea; 87b5a3c3f1a55520_gr_last_sent_sid_with_cs1=bd8390f3-3711-419b-bfc8-0d6d438204ea; 87b5a3c3f1a55520_gr_cs1=souviknandi24; 87b5a3c3f1a55520_gr_session_id_sent_vst=bd8390f3-3711-419b-bfc8-0d6d438204ea; _gat=1; __stripe_sid=8e60b8b2-337a-4451-83f4-9ec4d6e42a7421d627; _ga_CDRWKZTDEX=GS1.1.1716114185.17.1.1716114238.7.0.0',\n",
    "  'dnt': '1',\n",
    "  'origin': 'https://leetcode.com',\n",
    "  'sec-ch-ua': '\" Not A;Brand\";v=\"99\", \"Chromium\";v=\"101\", \"Microsoft Edge\";v=\"101\"',\n",
    "  'sec-ch-ua-mobile': '?0',\n",
    "  'sec-ch-ua-platform': '\"Windows\"',\n",
    "  'sec-fetch-dest': 'empty',\n",
    "  'sec-fetch-mode': 'cors',\n",
    "  'sec-fetch-site': 'same-origin',\n",
    "  'user-agent': 'Mozilla/5.0 (Windows NT 10.0; Win64; x64) AppleWebKit/537.36 (KHTML, like Gecko) Chrome/101.0.4951.41 Safari/537.36 Edg/101.0.1210.32',\n",
    "  'x-csrftoken': '',\n",
    "}\n",
    "\n",
    "def getListOfProblems():\n",
    "    data = {\"query\":\"\\n    query problemsetQuestionList($categorySlug: String, $limit: Int, $skip: Int, $filters: QuestionListFilterInput) {\\n  problemsetQuestionList: questionList(\\n    categorySlug: $categorySlug\\n    limit: $limit\\n    skip: $skip\\n    filters: $filters\\n  ) {\\n    total: totalNum\\n    questions: data {\\n      acRate\\n      difficulty\\n      freqBar\\n      frontendQuestionId: questionFrontendId\\n      isFavor\\n      paidOnly: isPaidOnly\\n      status\\n      title\\n      titleSlug\\n      topicTags {\\n        name\\n        id\\n        slug\\n      }\\n      hasSolution\\n      hasVideoSolution\\n    }\\n  }\\n}\\n    \",\"variables\":{\"categorySlug\":\"\",\"skip\":0,\"limit\":3500,\"filters\":{}}}\n",
    "    response = requests.post(url, headers=headers, json=data)\n",
    "    return response.json()[\"data\"][\"problemsetQuestionList\"][\"questions\"]\n",
    "\n",
    "problemsList = getListOfProblems()\n"
   ]
  },
  {
   "cell_type": "code",
   "execution_count": 3,
   "metadata": {},
   "outputs": [
    {
     "data": {
      "text/plain": [
       "3000"
      ]
     },
     "execution_count": 3,
     "metadata": {},
     "output_type": "execute_result"
    }
   ],
   "source": [
    "len(problemsList)"
   ]
  },
  {
   "cell_type": "code",
   "execution_count": 4,
   "metadata": {},
   "outputs": [],
   "source": [
    "import re\n",
    "\n",
    "def getPlaygroundData(uuid):\n",
    "    requestData = {\"operationName\":\"fetchPlayground\",\"variables\":{},\"query\":\"query fetchPlayground {\\n  playground(uuid: \\\"\" + uuid + \"\\\") {\\n    testcaseInput\\n    name\\n    isUserOwner\\n    isLive\\n    showRunCode\\n    showOpenInPlayground\\n    selectedLangSlug\\n    isShared\\n    __typename\\n  }\\n  allPlaygroundCodes(uuid: \\\"cvvgJGBX\\\") {\\n    code\\n    langSlug\\n    __typename\\n  }\\n}\\n\"}\n",
    "    response = requests.post(url, headers=headers, json=requestData)\n",
    "    return response.json()[\"data\"]\n",
    "\n",
    "\n",
    "def getProblemStatement(idx, titleSlug):\n",
    "    try:\n",
    "        questionRequestData = {\"operationName\":\"questionData\",\"variables\":{\"titleSlug\": titleSlug},\"query\":\"query questionData($titleSlug: String!) {\\n  question(titleSlug: $titleSlug) {\\n    questionId\\n    questionFrontendId\\n    boundTopicId\\n    title\\n    titleSlug\\n    content\\n    translatedTitle\\n    translatedContent\\n    isPaidOnly\\n    difficulty\\n    likes\\n    dislikes\\n    isLiked\\n    similarQuestions\\n    exampleTestcases\\n    categoryTitle\\n    contributors {\\n      username\\n      profileUrl\\n      avatarUrl\\n      __typename\\n    }\\n    topicTags {\\n      name\\n      slug\\n      translatedName\\n      __typename\\n    }\\n    companyTagStats\\n    codeSnippets {\\n      lang\\n      langSlug\\n      code\\n      __typename\\n    }\\n    stats\\n    hints\\n    solution {\\n      id\\n      canSeeDetail\\n      paidOnly\\n      hasVideoSolution\\n      paidOnlyVideo\\n      __typename\\n    }\\n    status\\n    sampleTestCase\\n    metaData\\n    judgerAvailable\\n    judgeType\\n    mysqlSchemas\\n    enableRunCode\\n    enableTestMode\\n    enableDebugger\\n    envInfo\\n    libraryUrl\\n    adminUrl\\n    challengeQuestion {\\n      id\\n      date\\n      incompleteChallengeCount\\n      streakCount\\n      type\\n      __typename\\n    }\\n    __typename\\n  }\\n}\\n\"}\n",
    "        questionResponse = requests.post(url, headers=headers, json=questionRequestData).json()\n",
    "        question = questionResponse[\"data\"][\"question\"]\n",
    "        id = question[\"questionId\"]\n",
    "\n",
    "        if (questionResponse[\"data\"][\"question\"][\"solution\"] != None):\n",
    "            solutionRequestData = {\"operationName\":\"QuestionNote\",\"variables\":{\"titleSlug\": titleSlug},\"query\":\"query QuestionNote($titleSlug: String!) {\\n  question(titleSlug: $titleSlug) {\\n    questionId\\n    article\\n    solution {\\n      id\\n      content\\n      contentTypeId\\n      canSeeDetail\\n      paidOnly\\n      hasVideoSolution\\n      paidOnlyVideo\\n      rating {\\n        id\\n        count\\n        average\\n        userRating {\\n          score\\n          __typename\\n        }\\n        __typename\\n      }\\n      __typename\\n    }\\n    __typename\\n  }\\n}\\n\"}\n",
    "            solutionResponse = requests.post(url, headers=headers, json=solutionRequestData).json()\n",
    "\n",
    "            playgroundUrls = re.findall(r'https://leetcode.com/playground/(.+)/shared', solutionResponse[\"data\"][\"question\"][\"solution\"][\"content\"])\n",
    "            playgroundData = {}\n",
    "\n",
    "            for codeUrl in playgroundUrls:\n",
    "                codeUrl = codeUrl.replace(\"https://leetcode.com/playground/\", \"\")\n",
    "                codeUrl = codeUrl.replace(\"/shared\", \"\")\n",
    "                playgroundData[codeUrl] = getPlaygroundData(codeUrl)\n",
    "            \n",
    "            solution = solutionResponse[\"data\"][\"question\"][\"solution\"]\n",
    "        else:\n",
    "            solution = None\n",
    "            solutionResponse = None\n",
    "            playgroundData = None\n",
    "       \n",
    "        problemData = {\n",
    "            \"id\": id,\n",
    "            \"question\": question,\n",
    "            \"solution\": solution,\n",
    "            \"questionCode\": titleSlug,\n",
    "            \"playgroundData\": playgroundData\n",
    "        }\n",
    "        \n",
    "        return True, problemData\n",
    "    except Exception as err:\n",
    "        return False, idx"
   ]
  },
  {
   "cell_type": "code",
   "execution_count": 5,
   "metadata": {},
   "outputs": [
    {
     "name": "stdout",
     "output_type": "stream",
     "text": [
      "Starting again with =  2335\n"
     ]
    },
    {
     "name": "stdout",
     "output_type": "stream",
     "text": [
      "Waiting...\n",
      "Wait stopped...\n",
      "Starting again with =  2336\n",
      "Waiting...\n",
      "Wait stopped...\n",
      "Starting again with =  2347\n",
      "Waiting...\n",
      "Wait stopped...\n",
      "Starting again with =  2348\n",
      "Waiting...\n",
      "Wait stopped...\n",
      "Starting again with =  2351\n",
      "Waiting...\n",
      "Wait stopped...\n",
      "Starting again with =  2352\n",
      "Waiting...\n",
      "Wait stopped...\n",
      "Starting again with =  2354\n",
      "Waiting...\n",
      "Wait stopped...\n",
      "Starting again with =  2355\n",
      "Waiting...\n",
      "Wait stopped...\n",
      "Starting again with =  2356\n",
      "Waiting...\n",
      "Wait stopped...\n",
      "Starting again with =  2359\n",
      "Waiting...\n"
     ]
    },
    {
     "ename": "KeyboardInterrupt",
     "evalue": "",
     "output_type": "error",
     "traceback": [
      "\u001b[1;31m---------------------------------------------------------------------------\u001b[0m",
      "\u001b[1;31mKeyboardInterrupt\u001b[0m                         Traceback (most recent call last)",
      "Cell \u001b[1;32mIn[5], line 24\u001b[0m\n\u001b[0;32m     22\u001b[0m lastError\u001b[38;5;241m.\u001b[39mappend(res)\n\u001b[0;32m     23\u001b[0m \u001b[38;5;28mprint\u001b[39m(\u001b[38;5;124m\"\u001b[39m\u001b[38;5;124mWaiting...\u001b[39m\u001b[38;5;124m\"\u001b[39m)\n\u001b[1;32m---> 24\u001b[0m \u001b[43mtime\u001b[49m\u001b[38;5;241;43m.\u001b[39;49m\u001b[43msleep\u001b[49m\u001b[43m(\u001b[49m\u001b[38;5;241;43m20\u001b[39;49m\u001b[43m)\u001b[49m\n\u001b[0;32m     25\u001b[0m \u001b[38;5;28mprint\u001b[39m(\u001b[38;5;124m\"\u001b[39m\u001b[38;5;124mWait stopped...\u001b[39m\u001b[38;5;124m\"\u001b[39m)\n\u001b[0;32m     26\u001b[0m \u001b[38;5;28;01mbreak\u001b[39;00m\n",
      "\u001b[1;31mKeyboardInterrupt\u001b[0m: "
     ]
    }
   ],
   "source": [
    "import json\n",
    "import time\n",
    "\n",
    "lastError = [2335]\n",
    "\n",
    "while lastError:\n",
    "    startIdx = lastError.pop()\n",
    "    print(\"Starting again with = \", startIdx)\n",
    "\n",
    "    for idx, question in enumerate(problemsList[startIdx:]):\n",
    "        success, res = getProblemStatement(startIdx + idx, question[\"titleSlug\"])\n",
    "\n",
    "        if success:\n",
    "            json_object = json.dumps(res, indent = 4)\n",
    "            file_name = f\"{res['id'].zfill(4)}_{question['titleSlug']}.json\"\n",
    "            \n",
    "            with open('problems/' + file_name, \"w\") as outfile:\n",
    "                outfile.write(json_object)\n",
    "        else:\n",
    "            if res == startIdx:\n",
    "                res += 1\n",
    "            lastError.append(res)\n",
    "            print(\"Waiting...\")\n",
    "            time.sleep(20)\n",
    "            print(\"Wait stopped...\")\n",
    "            break\n",
    "    "
   ]
  }
 ],
 "metadata": {
  "interpreter": {
   "hash": "81794d4967e6c3204c66dcd87b604927b115b27c00565d3d43f05ba2f3a2cb0d"
  },
  "kernelspec": {
   "display_name": "Python 3.9.4 64-bit",
   "language": "python",
   "name": "python3"
  },
  "language_info": {
   "codemirror_mode": {
    "name": "ipython",
    "version": 3
   },
   "file_extension": ".py",
   "mimetype": "text/x-python",
   "name": "python",
   "nbconvert_exporter": "python",
   "pygments_lexer": "ipython3",
   "version": "3.9.0"
  },
  "orig_nbformat": 4
 },
 "nbformat": 4,
 "nbformat_minor": 2
}
