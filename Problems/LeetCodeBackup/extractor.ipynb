{
 "cells": [
  {
   "cell_type": "code",
   "execution_count": 2,
   "metadata": {},
   "outputs": [],
   "source": [
    "import requests\n",
    "\n",
    "url = \"https://leetcode.com/graphql/\"\n",
    "headers = {\n",
    "  'authority': 'leetcode.com',\n",
    "  'accept': '*/*',\n",
    "  'accept-language': 'en-US,en;q=0.9',\n",
    "  'authorization': '',\n",
    "  'content-type': 'application/json',\n",
    "  'cookie': '',\n",
    "  'dnt': '1',\n",
    "  'origin': 'https://leetcode.com',\n",
    "  'sec-ch-ua': '\" Not A;Brand\";v=\"99\", \"Chromium\";v=\"101\", \"Microsoft Edge\";v=\"101\"',\n",
    "  'sec-ch-ua-mobile': '?0',\n",
    "  'sec-ch-ua-platform': '\"Windows\"',\n",
    "  'sec-fetch-dest': 'empty',\n",
    "  'sec-fetch-mode': 'cors',\n",
    "  'sec-fetch-site': 'same-origin',\n",
    "  'user-agent': 'Mozilla/5.0 (Windows NT 10.0; Win64; x64) AppleWebKit/537.36 (KHTML, like Gecko) Chrome/101.0.4951.41 Safari/537.36 Edg/101.0.1210.32',\n",
    "  'x-csrftoken': '',\n",
    "}\n",
    "\n",
    "def getListOfProblems():\n",
    "    data = {\"query\":\"\\n    query problemsetQuestionList($categorySlug: String, $limit: Int, $skip: Int, $filters: QuestionListFilterInput) {\\n  problemsetQuestionList: questionList(\\n    categorySlug: $categorySlug\\n    limit: $limit\\n    skip: $skip\\n    filters: $filters\\n  ) {\\n    total: totalNum\\n    questions: data {\\n      acRate\\n      difficulty\\n      freqBar\\n      frontendQuestionId: questionFrontendId\\n      isFavor\\n      paidOnly: isPaidOnly\\n      status\\n      title\\n      titleSlug\\n      topicTags {\\n        name\\n        id\\n        slug\\n      }\\n      hasSolution\\n      hasVideoSolution\\n    }\\n  }\\n}\\n    \",\"variables\":{\"categorySlug\":\"\",\"skip\":0,\"limit\":3000,\"filters\":{}}}\n",
    "    response = requests.post(url, headers=headers, json=data)\n",
    "    return response.json()[\"data\"][\"problemsetQuestionList\"][\"questions\"]\n",
    "\n",
    "problemsList = getListOfProblems()\n"
   ]
  },
  {
   "cell_type": "code",
   "execution_count": 3,
   "metadata": {},
   "outputs": [
    {
     "data": {
      "text/plain": [
       "3000"
      ]
     },
     "execution_count": 3,
     "metadata": {},
     "output_type": "execute_result"
    }
   ],
   "source": [
    "len(problemsList)"
   ]
  },
  {
   "cell_type": "code",
   "execution_count": 4,
   "metadata": {},
   "outputs": [],
   "source": [
    "import re\n",
    "\n",
    "def getPlaygroundData(uuid):\n",
    "    requestData = {\"operationName\":\"fetchPlayground\",\"variables\":{},\"query\":\"query fetchPlayground {\\n  playground(uuid: \\\"\" + uuid + \"\\\") {\\n    testcaseInput\\n    name\\n    isUserOwner\\n    isLive\\n    showRunCode\\n    showOpenInPlayground\\n    selectedLangSlug\\n    isShared\\n    __typename\\n  }\\n  allPlaygroundCodes(uuid: \\\"cvvgJGBX\\\") {\\n    code\\n    langSlug\\n    __typename\\n  }\\n}\\n\"}\n",
    "    response = requests.post(url, headers=headers, json=requestData)\n",
    "    return response.json()[\"data\"]\n",
    "\n",
    "\n",
    "def getProblemStatement(idx, titleSlug):\n",
    "    try:\n",
    "        questionRequestData = {\"operationName\":\"questionData\",\"variables\":{\"titleSlug\": titleSlug},\"query\":\"query questionData($titleSlug: String!) {\\n  question(titleSlug: $titleSlug) {\\n    questionId\\n    questionFrontendId\\n    boundTopicId\\n    title\\n    titleSlug\\n    content\\n    translatedTitle\\n    translatedContent\\n    isPaidOnly\\n    difficulty\\n    likes\\n    dislikes\\n    isLiked\\n    similarQuestions\\n    exampleTestcases\\n    categoryTitle\\n    contributors {\\n      username\\n      profileUrl\\n      avatarUrl\\n      __typename\\n    }\\n    topicTags {\\n      name\\n      slug\\n      translatedName\\n      __typename\\n    }\\n    companyTagStats\\n    codeSnippets {\\n      lang\\n      langSlug\\n      code\\n      __typename\\n    }\\n    stats\\n    hints\\n    solution {\\n      id\\n      canSeeDetail\\n      paidOnly\\n      hasVideoSolution\\n      paidOnlyVideo\\n      __typename\\n    }\\n    status\\n    sampleTestCase\\n    metaData\\n    judgerAvailable\\n    judgeType\\n    mysqlSchemas\\n    enableRunCode\\n    enableTestMode\\n    enableDebugger\\n    envInfo\\n    libraryUrl\\n    adminUrl\\n    challengeQuestion {\\n      id\\n      date\\n      incompleteChallengeCount\\n      streakCount\\n      type\\n      __typename\\n    }\\n    __typename\\n  }\\n}\\n\"}\n",
    "        questionResponse = requests.post(url, headers=headers, json=questionRequestData).json()\n",
    "        question = questionResponse[\"data\"][\"question\"]\n",
    "        id = question[\"questionId\"]\n",
    "\n",
    "        if (questionResponse[\"data\"][\"question\"][\"solution\"] != None):\n",
    "            solutionRequestData = {\"operationName\":\"QuestionNote\",\"variables\":{\"titleSlug\": titleSlug},\"query\":\"query QuestionNote($titleSlug: String!) {\\n  question(titleSlug: $titleSlug) {\\n    questionId\\n    article\\n    solution {\\n      id\\n      content\\n      contentTypeId\\n      canSeeDetail\\n      paidOnly\\n      hasVideoSolution\\n      paidOnlyVideo\\n      rating {\\n        id\\n        count\\n        average\\n        userRating {\\n          score\\n          __typename\\n        }\\n        __typename\\n      }\\n      __typename\\n    }\\n    __typename\\n  }\\n}\\n\"}\n",
    "            solutionResponse = requests.post(url, headers=headers, json=solutionRequestData).json()\n",
    "\n",
    "            playgroundUrls = re.findall(r'https://leetcode.com/playground/(.+)/shared', solutionResponse[\"data\"][\"question\"][\"solution\"][\"content\"])\n",
    "            playgroundData = {}\n",
    "\n",
    "            for codeUrl in playgroundUrls:\n",
    "                codeUrl = codeUrl.replace(\"https://leetcode.com/playground/\", \"\")\n",
    "                codeUrl = codeUrl.replace(\"/shared\", \"\")\n",
    "                playgroundData[codeUrl] = getPlaygroundData(codeUrl)\n",
    "            \n",
    "            solution = solutionResponse[\"data\"][\"question\"][\"solution\"]\n",
    "        else:\n",
    "            solution = None\n",
    "            solutionResponse = None\n",
    "            playgroundData = None\n",
    "       \n",
    "        problemData = {\n",
    "            \"id\": id,\n",
    "            \"question\": question,\n",
    "            \"solution\": solution,\n",
    "            \"questionCode\": titleSlug,\n",
    "            \"playgroundData\": playgroundData\n",
    "        }\n",
    "        \n",
    "        return True, problemData\n",
    "    except Exception as err:\n",
    "        return False, idx"
   ]
  },
  {
   "cell_type": "code",
   "execution_count": 5,
   "metadata": {},
   "outputs": [
    {
     "name": "stdout",
     "output_type": "stream",
     "text": [
      "Starting again with =  2335\n"
     ]
    },
    {
     "name": "stdout",
     "output_type": "stream",
     "text": [
      "Waiting...\n",
      "Wait stopped...\n",
      "Starting again with =  2336\n",
      "Waiting...\n",
      "Wait stopped...\n",
      "Starting again with =  2347\n",
      "Waiting...\n",
      "Wait stopped...\n",
      "Starting again with =  2348\n",
      "Waiting...\n",
      "Wait stopped...\n",
      "Starting again with =  2351\n",
      "Waiting...\n",
      "Wait stopped...\n",
      "Starting again with =  2352\n",
      "Waiting...\n",
      "Wait stopped...\n",
      "Starting again with =  2354\n",
      "Waiting...\n",
      "Wait stopped...\n",
      "Starting again with =  2355\n",
      "Waiting...\n",
      "Wait stopped...\n",
      "Starting again with =  2356\n",
      "Waiting...\n",
      "Wait stopped...\n",
      "Starting again with =  2359\n",
      "Waiting...\n"
     ]
    },
    {
     "ename": "KeyboardInterrupt",
     "evalue": "",
     "output_type": "error",
     "traceback": [
      "\u001b[1;31m---------------------------------------------------------------------------\u001b[0m",
      "\u001b[1;31mKeyboardInterrupt\u001b[0m                         Traceback (most recent call last)",
      "Cell \u001b[1;32mIn[5], line 24\u001b[0m\n\u001b[0;32m     22\u001b[0m lastError\u001b[38;5;241m.\u001b[39mappend(res)\n\u001b[0;32m     23\u001b[0m \u001b[38;5;28mprint\u001b[39m(\u001b[38;5;124m\"\u001b[39m\u001b[38;5;124mWaiting...\u001b[39m\u001b[38;5;124m\"\u001b[39m)\n\u001b[1;32m---> 24\u001b[0m \u001b[43mtime\u001b[49m\u001b[38;5;241;43m.\u001b[39;49m\u001b[43msleep\u001b[49m\u001b[43m(\u001b[49m\u001b[38;5;241;43m20\u001b[39;49m\u001b[43m)\u001b[49m\n\u001b[0;32m     25\u001b[0m \u001b[38;5;28mprint\u001b[39m(\u001b[38;5;124m\"\u001b[39m\u001b[38;5;124mWait stopped...\u001b[39m\u001b[38;5;124m\"\u001b[39m)\n\u001b[0;32m     26\u001b[0m \u001b[38;5;28;01mbreak\u001b[39;00m\n",
      "\u001b[1;31mKeyboardInterrupt\u001b[0m: "
     ]
    }
   ],
   "source": [
    "import json\n",
    "import time\n",
    "\n",
    "lastError = [2335]\n",
    "\n",
    "while lastError:\n",
    "    startIdx = lastError.pop()\n",
    "    print(\"Starting again with = \", startIdx)\n",
    "\n",
    "    for idx, question in enumerate(problemsList[startIdx:]):\n",
    "        success, res = getProblemStatement(startIdx + idx, question[\"titleSlug\"])\n",
    "\n",
    "        if success:\n",
    "            json_object = json.dumps(res, indent = 4)\n",
    "            file_name = f\"{res['id'].zfill(4)}_{question['titleSlug']}.json\"\n",
    "            \n",
    "            with open('problems/' + file_name, \"w\") as outfile:\n",
    "                outfile.write(json_object)\n",
    "        else:\n",
    "            if res == startIdx:\n",
    "                res += 1\n",
    "            lastError.append(res)\n",
    "            print(\"Waiting...\")\n",
    "            time.sleep(20)\n",
    "            print(\"Wait stopped...\")\n",
    "            break\n",
    "    "
   ]
  }
 ],
 "metadata": {
  "interpreter": {
   "hash": "81794d4967e6c3204c66dcd87b604927b115b27c00565d3d43f05ba2f3a2cb0d"
  },
  "kernelspec": {
   "display_name": "Python 3.9.4 64-bit",
   "language": "python",
   "name": "python3"
  },
  "language_info": {
   "codemirror_mode": {
    "name": "ipython",
    "version": 3
   },
   "file_extension": ".py",
   "mimetype": "text/x-python",
   "name": "python",
   "nbconvert_exporter": "python",
   "pygments_lexer": "ipython3",
   "version": "3.9.0"
  },
  "orig_nbformat": 4
 },
 "nbformat": 4,
 "nbformat_minor": 2
}
